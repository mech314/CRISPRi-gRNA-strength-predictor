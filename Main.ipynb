{
 "cells": [
  {
   "cell_type": "code",
   "id": "initial_id",
   "metadata": {
    "collapsed": true,
    "ExecuteTime": {
     "end_time": "2025-01-08T04:10:51.953758Z",
     "start_time": "2025-01-08T04:10:51.950536Z"
    }
   },
   "source": [
    "import numpy as np\n",
    "import pandas as pd\n",
    "import subprocess\n",
    "import seaborn as sns\n",
    "import matplotlib.pyplot as plt\n",
    "from itertools import product\n",
    "\n",
    "from sklearn.model_selection import train_test_split, GridSearchCV\n",
    "from sklearn.preprocessing import MinMaxScaler, StandardScaler\n",
    "from catboost import CatBoostClassifier, CatBoostRegressor\n",
    "\n",
    "from sklearn.metrics import accuracy_score, confusion_matrix, ConfusionMatrixDisplay, classification_report\n",
    "\n",
    "from sklearn.utils.class_weight import compute_class_weight\n",
    "from sklearn.linear_model import LogisticRegression\n",
    "from sklearn.svm import SVC # Support Vector Classifier\n",
    "from imblearn.over_sampling import SMOTE\n",
    "from imblearn.combine import SMOTETomek\n"
   ],
   "outputs": [],
   "execution_count": 23
  },
  {
   "metadata": {
    "ExecuteTime": {
     "end_time": "2025-01-08T02:39:01.420042Z",
     "start_time": "2025-01-08T02:39:01.411198Z"
    }
   },
   "cell_type": "code",
   "source": [
    "#### Helper functions\n",
    "\n",
    "\n",
    "def gc_content(sequence):\n",
    "    \"\"\"\n",
    "    Compute the GC content of a DNA sequence.\n",
    "\n",
    "    Parameters:\n",
    "        sequence (str): DNA sequence (e.g., \"ATGCATGC\").\n",
    "    \n",
    "    Returns:\n",
    "        float: Fraction of G and C bases in the sequence.\n",
    "    \"\"\"\n",
    "    return (sequence.count('G') + sequence.count('C')) / len(sequence)\n",
    "\n",
    "\n",
    "def melting_temp(primer_sequence):\n",
    "    \"\"\"\n",
    "    Calculate the melting temperature (Tm) of a DNA primer using:\n",
    "    1. Wallace Rule\n",
    "    2. Salt-adjusted formula for longer primers (>14 bases)\n",
    "\n",
    "    Parameters:\n",
    "        primer_sequence (str): DNA primer sequence (e.g., \"ATGCATGCATGC\")\n",
    "\n",
    "    Returns:\n",
    "        dict: Tm values for Wallace Rule and Salt Adjusted formulas\n",
    "    \"\"\"\n",
    "    primer_sequence = primer_sequence.upper()\n",
    "    A_count = primer_sequence.count(\"A\")\n",
    "    T_count = primer_sequence.count(\"T\")\n",
    "    G_count = primer_sequence.count(\"G\")\n",
    "    C_count = primer_sequence.count(\"C\")\n",
    "    primer_length = len(primer_sequence)\n",
    "\n",
    "    # Salt-adjusted Tm for primers > 14 bases\n",
    "    if primer_length > 14:\n",
    "        tm = 64.9 + 41 * (G_count + C_count - 16.4) / primer_length\n",
    "    else: \n",
    "    # Wallace Rule Tm\n",
    "        tm = 2 * (A_count + T_count) + 4 * (G_count + C_count)\n",
    "\n",
    "\n",
    "    return tm\n",
    "\n",
    "def self_folding_mfe(sequence, is_dna=True):\n",
    "    \"\"\"\n",
    "    Calculate the minimum free energy (MFE) of a DNA or RNA sequence.\n",
    "\n",
    "    Parameters:\n",
    "        sequence (str): The DNA or RNA sequence.\n",
    "        is_dna (bool): Whether the sequence is DNA (default: True).\n",
    "    \n",
    "    Returns:\n",
    "        float: Minimum free energy (MFE).\n",
    "        str: Folded structure.\n",
    "    \"\"\"\n",
    "    # Convert DNA to RNA (if applicable)\n",
    "    if is_dna:\n",
    "        sequence = sequence.replace(\"T\", \"U\")\n",
    "    \n",
    "    # Run RNAfold via subprocess\n",
    "    process = subprocess.Popen(\n",
    "        [\"RNAfold\"], stdin=subprocess.PIPE, stdout=subprocess.PIPE, stderr=subprocess.PIPE\n",
    "    )\n",
    "    stdout, stderr = process.communicate(input=f\"{sequence}\\n\".encode())\n",
    "\n",
    "    # Parse output\n",
    "    output = stdout.decode().strip().split(\"\\n\")\n",
    "    folded_structure = output[1].split(\" \")[0]  # The dot-bracket notation\n",
    "    mfe = float(output[1].split(\" \")[-1].strip(\"()\"))  # The MFE value\n",
    "\n",
    "    return mfe\n",
    "\n",
    "# Helper function: Extreme GC content in regions\n",
    "def extreme_gc(sequence, start, end):\n",
    "    \"\"\"\n",
    "    Identify if a specified region of the DNA sequence has extreme GC content.\n",
    "\n",
    "    Parameters:\n",
    "        sequence (str): DNA sequence (e.g., \"ATGCATGC\").\n",
    "        start (int): Start position of the region (0-based indexing).\n",
    "        end (int): End position of the region (exclusive).\n",
    "\n",
    "    Returns:\n",
    "        int: 1 if GC content is < 0.3 or > 0.7, otherwise 0.\n",
    "    \"\"\"\n",
    "    region = sequence[start:end]\n",
    "    gc_percentage = gc_content(region)\n",
    "    return 1 if gc_percentage < 0.3 or gc_percentage > 0.7 else 0\n",
    "\n",
    "\n",
    "# Helper function to check presence of specific motifs\n",
    "def contains_motif(sequence, motif):\n",
    "    \"\"\"\n",
    "    Check if a specific motif is present in the DNA sequence.\n",
    "\n",
    "    Parameters:\n",
    "        sequence (str): DNA sequence (e.g., \"ATGCATGC\").\n",
    "        motif (str): Motif to check for (e.g., \"GGGG\").\n",
    "    \n",
    "    Returns:\n",
    "        int: 1 if the motif is present, otherwise 0.\n",
    "    \"\"\"\n",
    "    return 1 if motif in sequence else 0\n",
    "\n",
    "\n",
    "# Feature engineering\n",
    "def engineer_aggregate_features(df):    \n",
    "    \"\"\"\n",
    "    Engineer aggregate features for DNA sequences in a DataFrame.\n",
    "\n",
    "    Features include GC content, melting temperature, self-folding minimum\n",
    "    free energy, presence of motifs, position-specific nucleotide properties,\n",
    "    and nucleotide counts.\n",
    "\n",
    "    Parameters:\n",
    "        df (pd.DataFrame): DataFrame with a column 'Spacer' containing DNA sequences.\n",
    "    \n",
    "    Returns:\n",
    "        pd.DataFrame: DataFrame with additional engineered features.\n",
    "    \"\"\"\n",
    "    # Vectorize utility functions\n",
    "    gc_content_vec = np.vectorize(gc_content)\n",
    "    melting_temp_vec = np.vectorize(melting_temp)\n",
    "    extreme_gc_vec = np.vectorize(extreme_gc)\n",
    "    self_folding_mfe_vec = np.vectorize(self_folding_mfe)\n",
    "    contains_motif_vec = np.vectorize(contains_motif)\n",
    "\n",
    "    # Compute GC content\n",
    "    #df['GC_content'] = gc_content_vec(df['Spacer'])\n",
    "    df['GC_content_p1_10'] = gc_content_vec(df['Spacer'].str[:10])\n",
    "\n",
    "    # Compute melting temperature\n",
    "    df['melting_temp'] = melting_temp_vec(df['Spacer'])\n",
    "\n",
    "    # Compute extreme GC content in specific regions\n",
    "    #df['extreme_gc_2_3'] = extreme_gc_vec(df['Spacer'], 1, 3)\n",
    "    #df['extreme_gc_8'] = extreme_gc_vec(df['Spacer'], 7, 8)\n",
    "\n",
    "    # Compute self-folding minimum free energy\n",
    "    df['self_folding_mfe'] = self_folding_mfe_vec(df['Spacer'])\n",
    "\n",
    "    # Check for presence of specific motifs\n",
    "    motifs = ['GGGG', 'TTTT', 'AAAA', 'CCCC', 'GG', 'TT']\n",
    "    for motif in motifs:\n",
    "        df[f'contains_{motif}'] = contains_motif_vec(df['Spacer'], motif)\n",
    "\n",
    "    # Generate combinations of purines and other motifs\n",
    "    purines = [''.join(comb) for comb in product('AG', repeat=4)]\n",
    "    pos1_2_motifs = ['AA', 'TC', 'CC']\n",
    "    pos19_20_motifs_neg = ['AC', 'AG', 'CA', 'CC', 'GG']\n",
    "    pos19_20_motifs_pos = ['TA', 'CT', 'GC']\n",
    "\n",
    "    # Vectorized position-specific properties\n",
    "    df['purines_p17-20'] = np.vectorize(lambda x: 1 if x[-4:] in purines else 0)(df['Spacer'])\n",
    "    df['TTT_in_seed'] = contains_motif_vec(df['Spacer'].str[-13:], 'TTT')\n",
    "    df['pos1_2_motifs'] = np.vectorize(lambda x: 1 if x[0:2] in pos1_2_motifs else 0)(df['Spacer'])\n",
    "    df['pos19_20_motifs_neg'] = np.vectorize(lambda x: 1 if x[-2:] in pos19_20_motifs_neg else 0)(df['Spacer'])\n",
    "    df['pos19_20_motifs_pos'] =  np.vectorize(lambda x: 1 if x[-2:] in pos19_20_motifs_pos else 0)(df['Spacer'])\n",
    "\n",
    "    # Frequency of individual nucleotides\n",
    "    for nucleotide in ['A', 'T', 'G', 'C']:\n",
    "        df[f'{nucleotide}_count'] = np.vectorize(lambda x: x.count(nucleotide))(df['Spacer'])\n",
    "\n",
    "    return df\n"
   ],
   "id": "b3ef218cf7be62d9",
   "outputs": [],
   "execution_count": 133
  },
  {
   "metadata": {
    "ExecuteTime": {
     "end_time": "2025-01-08T02:39:24.907229Z",
     "start_time": "2025-01-08T02:39:16.846852Z"
    }
   },
   "cell_type": "code",
   "source": [
    "# Read data\n",
    "\n",
    "full_data = pd.read_excel('./data/full_LFC_data.xlsx')\n",
    "sequence_data = pd.read_excel('./data/combined_with_nontargets.xlsx')\n",
    "\n",
    "# Merge tables\n",
    "\n",
    "df = pd.merge(full_data, sequence_data, how='left', left_on='ID', right_on='ID')\n",
    "\n",
    "# delete non target gRNAs\n",
    "df = df[~df['ID'].str.startswith('nt-gRNA')]"
   ],
   "id": "3edfcc24f9682c92",
   "outputs": [],
   "execution_count": 135
  },
  {
   "metadata": {
    "ExecuteTime": {
     "end_time": "2025-01-08T02:54:41.018991Z",
     "start_time": "2025-01-08T02:39:29.135555Z"
    }
   },
   "cell_type": "code",
   "source": [
    "# Feature engineering\n",
    "\n",
    "# Initalize scalers\n",
    "min_max_scaler = MinMaxScaler() # initialize min_max for TSS\n",
    "standard_scaler = StandardScaler() # initialize standard for all other features\n",
    "\n",
    "# Apply all functions\n",
    "df = engineer_aggregate_features(df)\n",
    "\n",
    "# Get dummies for categorical\n",
    "df = pd.get_dummies(df, columns=['Strand', 'target'], drop_first=True)\n",
    "\n",
    "# scale TSS\n",
    "df['Pos_from_start'] = min_max_scaler.fit_transform(df[['TSS_dist']])\n",
    "\n",
    "# Add a new column for the strongest effect\n",
    "effect_columns = ['37W_LFC', '37R_LFC', '37B_LFC', '22W_LFC', '22R_LFC', '22B_LFC', '37di_LFC']\n",
    "df['gRNA strength'] = df[effect_columns].apply(lambda row: row.iloc[np.argmax(np.abs(row))], axis=1)\n",
    "\n",
    "# drop unwanted columns\n",
    "df.drop(['37W_LFC', '37R_LFC', '37B_LFC', '22W_LFC', '22R_LFC', '22B_LFC',\n",
    "       '37di_LFC','Unnamed: 0', 'ID', 'locus', 'gene', 'product', 'note',\n",
    "       'Component', 'NGG_dupe_count', 'PAM_index', 'PAM_type',\n",
    "      'dupe_loci', 'duplicates', 'index', 'locus_tag',\n",
    "       'rank_score', 'score', 'subpool', 'Spacer', 'TSS_dist'], axis=1, inplace=True)\n",
    "\n",
    "df.to_csv('./data/temp_df.csv')\n",
    "print(\"DataFrame saved to 'output.csv'\")"
   ],
   "id": "ce54c2607146fa3b",
   "outputs": [
    {
     "name": "stdout",
     "output_type": "stream",
     "text": [
      "DataFrame saved to 'output.csv'\n"
     ]
    }
   ],
   "execution_count": 136
  },
  {
   "metadata": {
    "ExecuteTime": {
     "end_time": "2025-01-08T04:39:06.858034Z",
     "start_time": "2025-01-08T04:39:06.798766Z"
    }
   },
   "cell_type": "code",
   "source": [
    "df = pd.read_csv('./data/temp_df.csv')\n",
    "df.drop(['Unnamed: 0'], axis=1, inplace=True)\n",
    "\n",
    "df = df[(df['gRNA strength'] < -2) | (df['gRNA strength'] > 2)]\n",
    "\n",
    "#Define bins and labels\n",
    "# bins = [-np.inf, -3, -0.4, 0.4, 3, np.inf]\n",
    "# labels = ['-Strong Effect', '-Medium Effect', 'No Effect', 'Medium Effect', 'Strong Effect']\n",
    "\n",
    "#Define bins and labels\n",
    "bins = [2, 4, np.inf]\n",
    "labels = [2, 4]\n",
    "\n",
    "# Bin gRNA strength\n",
    "df['gRNA strength'] = pd.cut(df['gRNA strength'].abs(), bins=bins, labels=labels)\n"
   ],
   "id": "fd053647d2764be0",
   "outputs": [],
   "execution_count": 125
  },
  {
   "metadata": {
    "ExecuteTime": {
     "end_time": "2025-01-08T04:39:07.680325Z",
     "start_time": "2025-01-08T04:39:07.675810Z"
    }
   },
   "cell_type": "code",
   "source": "df['gRNA strength'].value_counts()",
   "id": "672aaab1461f986e",
   "outputs": [
    {
     "data": {
      "text/plain": [
       "gRNA strength\n",
       "4    4116\n",
       "2    3295\n",
       "Name: count, dtype: int64"
      ]
     },
     "execution_count": 126,
     "metadata": {},
     "output_type": "execute_result"
    }
   ],
   "execution_count": 126
  },
  {
   "metadata": {
    "ExecuteTime": {
     "end_time": "2025-01-08T04:39:08.643225Z",
     "start_time": "2025-01-08T04:39:08.640777Z"
    }
   },
   "cell_type": "code",
   "source": "# sns.countplot(data=df, x='gRNA strength', hue='gRNA strength')",
   "id": "211a5f02a2c29132",
   "outputs": [],
   "execution_count": 127
  },
  {
   "metadata": {
    "ExecuteTime": {
     "end_time": "2025-01-08T04:39:31.420070Z",
     "start_time": "2025-01-08T04:39:09.117383Z"
    }
   },
   "cell_type": "code",
   "source": [
    "# Prep data for training\n",
    "\n",
    "X = df.drop('gRNA strength', axis=1)\n",
    "y = df['gRNA strength']\n",
    "\n",
    "X_train, X_test, y_train, y_test = train_test_split(X, y, test_size=0.2, random_state=314)\n",
    "\n",
    "\n",
    "# Testing smote_tomek to balance classes\n",
    "\n",
    "smote_tomek = SMOTETomek(random_state=42)\n",
    "X_train_resampled, y_train_resampled = smote_tomek.fit_resample(X_train, y_train)\n",
    "\n",
    "\n",
    "model = CatBoostClassifier(\n",
    "    iterations=3000,                  # More iterations for harder tasks\n",
    "    learning_rate=0.03,               # Lower learning rate for stability\n",
    "    depth=10,                         # Larger depth for complex patterns\n",
    "    l2_leaf_reg=5,                    # Regularization to reduce overfitting          \n",
    "    loss_function='Logloss',          # Binary classification\n",
    "    eval_metric='AUC',                # Use AUC for imbalanced tasks\n",
    "    bootstrap_type='Bayesian',        # Improved bootstrapping                \n",
    "    colsample_bylevel=0.8,            # Use 80% of features per tree level               \n",
    "    verbose=100                       # Log progress every 100 iterations\n",
    ")\n",
    "\n",
    "exclude_col = ['Pos_from_start']\n",
    "scaler = StandardScaler()\n",
    "\n",
    "# Scale training data\n",
    "columns_to_scale = X_train_resampled.columns.difference(exclude_col)\n",
    "temp_scaled_X_train = scaler.fit_transform(X_train_resampled[columns_to_scale])\n",
    "temp_scaled_X_train_df = pd.DataFrame(temp_scaled_X_train, columns=columns_to_scale, index=X_train_resampled.index)\n",
    "scaled_X_train = pd.concat([X_train_resampled[exclude_col], temp_scaled_X_train_df], axis=1)\n",
    "\n",
    "# Scale test data\n",
    "temp_scaled_X_test = scaler.transform(X_test[columns_to_scale])\n",
    "temp_scaled_X_test_df = pd.DataFrame(temp_scaled_X_test, columns=columns_to_scale, index=X_test.index)\n",
    "scaled_X_test = pd.concat([X_test[exclude_col], temp_scaled_X_test_df], axis=1)\n",
    "\n",
    "model.fit(X_train_resampled, y_train_resampled)\n",
    "\n",
    "y_pred = model.predict(scaled_X_test)\n",
    "accuracy_score(y_test, y_pred)\n",
    "\n"
   ],
   "id": "9d260f428ea0188d",
   "outputs": [
    {
     "name": "stdout",
     "output_type": "stream",
     "text": [
      "0:\ttotal: 7.25ms\tremaining: 21.8s\n",
      "100:\ttotal: 985ms\tremaining: 28.3s\n",
      "200:\ttotal: 1.78s\tremaining: 24.9s\n",
      "300:\ttotal: 2.58s\tremaining: 23.1s\n",
      "400:\ttotal: 3.37s\tremaining: 21.8s\n",
      "500:\ttotal: 4.13s\tremaining: 20.6s\n",
      "600:\ttotal: 4.9s\tremaining: 19.6s\n",
      "700:\ttotal: 5.67s\tremaining: 18.6s\n",
      "800:\ttotal: 6.44s\tremaining: 17.7s\n",
      "900:\ttotal: 7.2s\tremaining: 16.8s\n",
      "1000:\ttotal: 7.95s\tremaining: 15.9s\n",
      "1100:\ttotal: 8.72s\tremaining: 15s\n",
      "1200:\ttotal: 9.51s\tremaining: 14.2s\n",
      "1300:\ttotal: 10.3s\tremaining: 13.4s\n",
      "1400:\ttotal: 11s\tremaining: 12.5s\n",
      "1500:\ttotal: 11.6s\tremaining: 11.6s\n",
      "1600:\ttotal: 12.3s\tremaining: 10.8s\n",
      "1700:\ttotal: 13s\tremaining: 9.91s\n",
      "1800:\ttotal: 13.7s\tremaining: 9.09s\n",
      "1900:\ttotal: 14.3s\tremaining: 8.29s\n",
      "2000:\ttotal: 15s\tremaining: 7.5s\n",
      "2100:\ttotal: 15.7s\tremaining: 6.71s\n",
      "2200:\ttotal: 16.4s\tremaining: 5.94s\n",
      "2300:\ttotal: 17s\tremaining: 5.18s\n",
      "2400:\ttotal: 17.7s\tremaining: 4.42s\n",
      "2500:\ttotal: 18.4s\tremaining: 3.67s\n",
      "2600:\ttotal: 19.1s\tremaining: 2.93s\n",
      "2700:\ttotal: 19.8s\tremaining: 2.19s\n",
      "2800:\ttotal: 20.4s\tremaining: 1.45s\n",
      "2900:\ttotal: 21.1s\tremaining: 721ms\n",
      "2999:\ttotal: 21.8s\tremaining: 0us\n"
     ]
    },
    {
     "data": {
      "text/plain": [
       "0.476062036412677"
      ]
     },
     "execution_count": 128,
     "metadata": {},
     "output_type": "execute_result"
    }
   ],
   "execution_count": 128
  },
  {
   "metadata": {
    "ExecuteTime": {
     "end_time": "2025-01-08T04:39:34.554937Z",
     "start_time": "2025-01-08T04:39:34.268884Z"
    }
   },
   "cell_type": "code",
   "source": [
    "# Plot feature importance\n",
    "feature_importance = model.get_feature_importance()\n",
    "features = X_train.columns\n",
    "\n",
    "plt.barh(features, feature_importance)\n",
    "plt.xlabel('Feature Importance')\n",
    "plt.ylabel('Feature Name')\n",
    "plt.title('CatBoost Feature Importance')\n",
    "plt.show()"
   ],
   "id": "27c82a20bffb1247",
   "outputs": [
    {
     "data": {
      "text/plain": [
       "<Figure size 640x480 with 1 Axes>"
      ],
      "image/png": "[encoded data removed]"
     },
     "metadata": {},
     "output_type": "display_data"
    }
   ],
   "execution_count": 129
  },
  {
   "metadata": {
    "ExecuteTime": {
     "end_time": "2025-01-08T04:39:35.621815Z",
     "start_time": "2025-01-08T04:39:35.612008Z"
    }
   },
   "cell_type": "code",
   "source": "print(classification_report(y_test, y_pred))",
   "id": "b2795f233bb672ce",
   "outputs": [
    {
     "name": "stdout",
     "output_type": "stream",
     "text": [
      "              precision    recall  f1-score   support\n",
      "\n",
      "           2       0.44      0.68      0.53       650\n",
      "           4       0.56      0.31      0.40       833\n",
      "\n",
      "    accuracy                           0.48      1483\n",
      "   macro avg       0.50      0.50      0.47      1483\n",
      "weighted avg       0.51      0.48      0.46      1483\n",
      "\n"
     ]
    }
   ],
   "execution_count": 130
  },
  {
   "metadata": {
    "ExecuteTime": {
     "end_time": "2025-01-08T04:39:38.430803Z",
     "start_time": "2025-01-08T04:39:38.324003Z"
    }
   },
   "cell_type": "code",
   "source": [
    "\n",
    "matrix = confusion_matrix(y_test, y_pred)\n",
    "cm_display = ConfusionMatrixDisplay(matrix, display_labels=np.unique(y)) \n",
    "print(cm_display)\n",
    "cm_display.plot(cmap = 'Greens')"
   ],
   "id": "7f779e2e0e5f004d",
   "outputs": [
    {
     "name": "stdout",
     "output_type": "stream",
     "text": [
      "<sklearn.metrics._plot.confusion_matrix.ConfusionMatrixDisplay object at 0x12d7f4bf0>\n"
     ]
    },
    {
     "data": {
      "text/plain": [
       "<sklearn.metrics._plot.confusion_matrix.ConfusionMatrixDisplay at 0x12d7f4bf0>"
      ]
     },
     "execution_count": 131,
     "metadata": {},
     "output_type": "execute_result"
    },
    {
     "data": {
      "text/plain": [
       "<Figure size 640x480 with 2 Axes>"
      ],
      "image/png": "[encoded data removed]"
     },
     "metadata": {},
     "output_type": "display_data"
    }
   ],
   "execution_count": 131
  },
  {
   "metadata": {},
   "cell_type": "code",
   "outputs": [],
   "execution_count": null,
   "source": "",
   "id": "3845045a1090ea2d"
  }
 ],
 "metadata": {
  "kernelspec": {
   "display_name": "Python 3",
   "language": "python",
   "name": "python3"
  },
  "language_info": {
   "codemirror_mode": {
    "name": "ipython",
    "version": 2
   },
   "file_extension": ".py",
   "mimetype": "text/x-python",
   "name": "python",
   "nbconvert_exporter": "python",
   "pygments_lexer": "ipython2",
   "version": "2.7.6"
  }
 },
 "nbformat": 4,
 "nbformat_minor": 5
}
